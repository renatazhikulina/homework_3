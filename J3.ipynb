{
  "nbformat": 4,
  "nbformat_minor": 0,
  "metadata": {
    "colab": {
      "name": "Jopa3",
      "provenance": []
    },
    "kernelspec": {
      "name": "python3",
      "display_name": "Python 3"
    },
    "language_info": {
      "name": "python"
    },
    "accelerator": "GPU"
  },
  "cells": [
    {
      "cell_type": "code",
      "metadata": {
        "id": "iREqqkf6iFAg"
      },
      "source": [
        "from google.colab import drive\n",
        "\n",
        "drive.mount('/content/drive')"
      ],
      "execution_count": null,
      "outputs": []
    },
    {
      "cell_type": "code",
      "metadata": {
        "id": "lJqDNlIPjdkl"
      },
      "source": [
        "from lxml import etree\n",
        "from typing import List, Tuple\n",
        "\n",
        "def parse(file_name, texts, labels):\n",
        "  with open(file_name, mode='rb') as fp:\n",
        "    xml_data = fp.read()\n",
        "  root = etree.fromstring(xml_data)\n",
        "  for database in root.getchildren():\n",
        "    if database.tag == 'database':\n",
        "      for table in database.getchildren():\n",
        "        if table.tag != 'table':\n",
        "          continue\n",
        "        new_text = None\n",
        "        new_label = None\n",
        "        for column in table.getchildren():\n",
        "          if column.get('name') == 'text':\n",
        "            new_text = str(column.text).strip()\n",
        "            if new_label is not None:\n",
        "              break\n",
        "          elif column.get('name') not in {'id', 'twitid', 'date'}:\n",
        "            if new_label is None:\n",
        "              label_candidate = str(column.text).strip()\n",
        "              if label_candidate == '-1':\n",
        "                new_label = 0\n",
        "              elif label_candidate == '0':\n",
        "                new_label = 1\n",
        "              elif label_candidate == '1':\n",
        "                new_label = 2\n",
        "                if new_text is not None:\n",
        "                  break\n",
        "        if (new_text is None) or (new_label is None):\n",
        "          raise ValueError('File `{0}` contains some error!'.format(file_name))\n",
        "        texts.append(new_text)\n",
        "        labels.append(new_label)\n",
        "      break"
      ],
      "execution_count": null,
      "outputs": []
    },
    {
      "cell_type": "code",
      "metadata": {
        "id": "MFmztOwAHIcb"
      },
      "source": [
        "def load_sentirueval_2016(file_name1: str, file_name2: str) -> Tuple[List[str], List[str]]:\n",
        "  texts = []\n",
        "  labels = []\n",
        "  parse(file_name1, texts, labels)\n",
        "  parse(file_name2, texts, labels)\n",
        "  return texts, labels"
      ],
      "execution_count": null,
      "outputs": []
    },
    {
      "cell_type": "code",
      "metadata": {
        "id": "8y9GJyKxq82G"
      },
      "source": [
        "texts, labels = load_sentirueval_2016('drive/MyDrive/bank_train_2016.xml', 'drive/MyDrive/tkk_train_2016.xml')\n",
        "texts_test, labels_test = load_sentirueval_2016('drive/MyDrive/banks_test_etalon.xml', 'drive/MyDrive/tkk_test_etalon.xml')"
      ],
      "execution_count": null,
      "outputs": []
    },
    {
      "cell_type": "code",
      "source": [
        "!rm -f ft_native_300_ru_twitter_nltk_word_tokenize.bin\n",
        "!wget http://files.deeppavlov.ai/embeddings/ft_native_300_ru_twitter_nltk_word_tokenize.bin"
      ],
      "metadata": {
        "colab": {
          "base_uri": "https://localhost:8080/"
        },
        "id": "nYQwUPx3PkGU",
        "outputId": "b880d6b6-3327-4eff-b6d8-e97d135ff33c"
      },
      "execution_count": null,
      "outputs": [
        {
          "output_type": "stream",
          "name": "stdout",
          "text": [
            "--2022-01-03 16:12:06--  http://files.deeppavlov.ai/embeddings/ft_native_300_ru_twitter_nltk_word_tokenize.bin\n",
            "Resolving files.deeppavlov.ai (files.deeppavlov.ai)... 178.63.27.41\n",
            "Connecting to files.deeppavlov.ai (files.deeppavlov.ai)|178.63.27.41|:80... connected.\n",
            "HTTP request sent, awaiting response... 301 Moved Permanently\n",
            "Location: https://files.deeppavlov.ai/embeddings/ft_native_300_ru_twitter_nltk_word_tokenize.bin [following]\n",
            "--2022-01-03 16:12:07--  https://files.deeppavlov.ai/embeddings/ft_native_300_ru_twitter_nltk_word_tokenize.bin\n",
            "Connecting to files.deeppavlov.ai (files.deeppavlov.ai)|178.63.27.41|:443... connected.\n",
            "HTTP request sent, awaiting response... 200 OK\n",
            "Length: 3417475450 (3.2G) [application/octet-stream]\n",
            "Saving to: ‘ft_native_300_ru_twitter_nltk_word_tokenize.bin’\n",
            "\n",
            "ft_native_300_ru_tw 100%[===================>]   3.18G  9.76MB/s    in 5m 31s  \n",
            "\n",
            "2022-01-03 16:17:39 (9.86 MB/s) - ‘ft_native_300_ru_twitter_nltk_word_tokenize.bin’ saved [3417475450/3417475450]\n",
            "\n"
          ]
        }
      ]
    },
    {
      "cell_type": "code",
      "metadata": {
        "id": "IzfIDxS_s8Xo"
      },
      "source": [
        "import gensim\n",
        "from gensim.models.fasttext import FastText\n",
        "\n",
        "fasttext_model = FastText()\n",
        "fasttext_model.file_name = 'ft_native_300_ru_twitter_nltk_word_tokenize.bin'\n",
        "fasttext_model.load_binary_data()"
      ],
      "execution_count": null,
      "outputs": []
    },
    {
      "cell_type": "code",
      "source": [
        "import numpy as np\n",
        "\n",
        "def get_matrix(texts):\n",
        "  output = []\n",
        "  for text in texts:\n",
        "    try:\n",
        "      output.append(fasttext_model.wv[text])\n",
        "    except KeyError:\n",
        "      output.append(np.zeros(100))\n",
        "  output = np.array(output, dtype=np.float32)\n",
        "  output = output.reshape(len(texts), 100, 1, 1)\n",
        "  return output\n",
        "\n",
        "x_train, y_train  = get_matrix(texts), np.array(labels)\n",
        "x_test, y_test = get_matrix(texts_test), np.array(labels_test)\n",
        "print(x_train.shape, x_test.shape)"
      ],
      "metadata": {
        "id": "98IgMMIV9dDh",
        "colab": {
          "base_uri": "https://localhost:8080/"
        },
        "outputId": "737eac8c-1e82-41c7-c053-9229b73e2f46"
      },
      "execution_count": null,
      "outputs": [
        {
          "output_type": "stream",
          "name": "stdout",
          "text": [
            "(18035, 100, 1, 1) (5560, 100, 1, 1)\n"
          ]
        }
      ]
    },
    {
      "cell_type": "code",
      "metadata": {
        "id": "jAfQRg48ahil"
      },
      "source": [
        "import random\n",
        "from sklearn.model_selection import train_test_split\n",
        "\n",
        "RANDOM_SEED = 42\n",
        "random.seed(RANDOM_SEED)\n",
        "x_train, x_val, y_train, y_val = train_test_split(x_train, y_train, test_size=0.1, random_state=RANDOM_SEED)"
      ],
      "execution_count": null,
      "outputs": []
    },
    {
      "cell_type": "markdown",
      "source": [
        "Сверточная нейронная сеть"
      ],
      "metadata": {
        "id": "a4obax6CfzvF"
      }
    },
    {
      "cell_type": "code",
      "metadata": {
        "id": "3yEUyUi7ahi0",
        "colab": {
          "base_uri": "https://localhost:8080/"
        },
        "outputId": "0c83be67-f40b-4958-d405-7931830af9ef"
      },
      "source": [
        "from tensorflow.keras.models import Sequential\n",
        "from tensorflow.keras.layers import Dense, Dropout, Reshape\n",
        "from tensorflow.keras.initializers import he_uniform, glorot_uniform\n",
        "from tensorflow.keras.callbacks import EarlyStopping\n",
        "from tensorflow.keras.layers import Flatten, Conv2D, MaxPooling2D, SpatialDropout2D\n",
        "\n",
        "cnn = Sequential()\n",
        "cnn.add(Conv2D(32, (2, 1), padding='same', activation='relu', input_shape=x_train.shape[1:],\n",
        "               kernel_initializer=he_uniform(seed=RANDOM_SEED), name='Conv_Block1_Layer1'))\n",
        "cnn.add(Conv2D(32, (2, 1), activation='relu', kernel_initializer=he_uniform(seed=RANDOM_SEED),\n",
        "               name='Conv_Block1_Layer2'))\n",
        "cnn.add(MaxPooling2D(pool_size=(2, 1), name='MaxPool1'))\n",
        "cnn.add(SpatialDropout2D(rate=0.15, name='SpatialDropout1', seed=RANDOM_SEED))\n",
        "\n",
        "cnn.add(Conv2D(64, (2, 1), padding='same', activation='relu', kernel_initializer=he_uniform(seed=RANDOM_SEED),\n",
        "              name='Conv_Block2_Layer1'))\n",
        "cnn.add(Conv2D(64, (2, 1), activation='relu', kernel_initializer=he_uniform(seed=RANDOM_SEED),\n",
        "               name='Conv_Block2_Layer2'))\n",
        "cnn.add(MaxPooling2D(pool_size=(2, 1), name='MaxPool2'))\n",
        "cnn.add(SpatialDropout2D(rate=0.15, name='SpatialDropout2', seed=RANDOM_SEED))\n",
        "cnn.add(Flatten())\n",
        "cnn.add(Dense(512, activation='relu', kernel_initializer=he_uniform(seed=RANDOM_SEED), name='HiddenLayer'))\n",
        "cnn.add(Dropout(rate=0.5, seed=RANDOM_SEED, name='DropoutAfterHidden'))\n",
        "cnn.add(Dense(10, activation='softmax', kernel_initializer=glorot_uniform(seed=RANDOM_SEED), name='OutputLayer'))\n",
        "cnn.compile(loss='sparse_categorical_crossentropy', optimizer='adam', metrics=['sparse_categorical_accuracy'])\n",
        "cnn.summary()"
      ],
      "execution_count": null,
      "outputs": [
        {
          "output_type": "stream",
          "name": "stdout",
          "text": [
            "Model: \"sequential_5\"\n",
            "_________________________________________________________________\n",
            " Layer (type)                Output Shape              Param #   \n",
            "=================================================================\n",
            " Conv_Block1_Layer1 (Conv2D)  (None, 100, 1, 32)       96        \n",
            "                                                                 \n",
            " Conv_Block1_Layer2 (Conv2D)  (None, 99, 1, 32)        2080      \n",
            "                                                                 \n",
            " MaxPool1 (MaxPooling2D)     (None, 49, 1, 32)         0         \n",
            "                                                                 \n",
            " SpatialDropout1 (SpatialDro  (None, 49, 1, 32)        0         \n",
            " pout2D)                                                         \n",
            "                                                                 \n",
            " Conv_Block2_Layer1 (Conv2D)  (None, 49, 1, 64)        4160      \n",
            "                                                                 \n",
            " Conv_Block2_Layer2 (Conv2D)  (None, 48, 1, 64)        8256      \n",
            "                                                                 \n",
            " MaxPool2 (MaxPooling2D)     (None, 24, 1, 64)         0         \n",
            "                                                                 \n",
            " SpatialDropout2 (SpatialDro  (None, 24, 1, 64)        0         \n",
            " pout2D)                                                         \n",
            "                                                                 \n",
            " flatten_1 (Flatten)         (None, 1536)              0         \n",
            "                                                                 \n",
            " HiddenLayer (Dense)         (None, 512)               786944    \n",
            "                                                                 \n",
            " DropoutAfterHidden (Dropout  (None, 512)              0         \n",
            " )                                                               \n",
            "                                                                 \n",
            " OutputLayer (Dense)         (None, 10)                5130      \n",
            "                                                                 \n",
            "=================================================================\n",
            "Total params: 806,666\n",
            "Trainable params: 806,666\n",
            "Non-trainable params: 0\n",
            "_________________________________________________________________\n"
          ]
        }
      ]
    },
    {
      "cell_type": "code",
      "metadata": {
        "id": "WCfOIa6dahi2",
        "colab": {
          "base_uri": "https://localhost:8080/"
        },
        "outputId": "6d1da20a-f8f4-4a12-bbba-bf9b97476ba3"
      },
      "source": [
        "BATCH_SIZE = 128\n",
        "\n",
        "cnn.fit(\n",
        "    x_train, y_train,\n",
        "    batch_size=BATCH_SIZE,\n",
        "    validation_data=(x_val, y_val),\n",
        "    shuffle=True, epochs=100,\n",
        "    callbacks=[\n",
        "        EarlyStopping(\n",
        "            monitor='val_loss', patience=5, restore_best_weights=True, verbose=1\n",
        "        )\n",
        "    ],\n",
        "    verbose=1\n",
        ")"
      ],
      "execution_count": null,
      "outputs": [
        {
          "output_type": "stream",
          "name": "stdout",
          "text": [
            "Epoch 1/100\n",
            "127/127 [==============================] - 2s 11ms/step - loss: 0.8297 - sparse_categorical_accuracy: 0.6469 - val_loss: 0.7474 - val_sparse_categorical_accuracy: 0.6508\n",
            "Epoch 2/100\n",
            "127/127 [==============================] - 1s 11ms/step - loss: 0.7377 - sparse_categorical_accuracy: 0.6703 - val_loss: 0.7328 - val_sparse_categorical_accuracy: 0.6552\n",
            "Epoch 3/100\n",
            "127/127 [==============================] - 2s 12ms/step - loss: 0.7240 - sparse_categorical_accuracy: 0.6807 - val_loss: 0.7104 - val_sparse_categorical_accuracy: 0.6813\n",
            "Epoch 4/100\n",
            "127/127 [==============================] - 1s 11ms/step - loss: 0.7133 - sparse_categorical_accuracy: 0.6859 - val_loss: 0.6972 - val_sparse_categorical_accuracy: 0.6935\n",
            "Epoch 5/100\n",
            "127/127 [==============================] - 1s 10ms/step - loss: 0.7021 - sparse_categorical_accuracy: 0.6961 - val_loss: 0.6870 - val_sparse_categorical_accuracy: 0.7068\n",
            "Epoch 6/100\n",
            "127/127 [==============================] - 1s 9ms/step - loss: 0.6942 - sparse_categorical_accuracy: 0.6987 - val_loss: 0.6835 - val_sparse_categorical_accuracy: 0.6918\n",
            "Epoch 7/100\n",
            "127/127 [==============================] - 1s 10ms/step - loss: 0.6895 - sparse_categorical_accuracy: 0.6999 - val_loss: 0.6729 - val_sparse_categorical_accuracy: 0.7073\n",
            "Epoch 8/100\n",
            "127/127 [==============================] - 1s 9ms/step - loss: 0.6819 - sparse_categorical_accuracy: 0.7033 - val_loss: 0.6798 - val_sparse_categorical_accuracy: 0.6996\n",
            "Epoch 9/100\n",
            "127/127 [==============================] - 1s 10ms/step - loss: 0.6739 - sparse_categorical_accuracy: 0.7066 - val_loss: 0.6685 - val_sparse_categorical_accuracy: 0.7023\n",
            "Epoch 10/100\n",
            "127/127 [==============================] - 1s 9ms/step - loss: 0.6702 - sparse_categorical_accuracy: 0.7080 - val_loss: 0.6659 - val_sparse_categorical_accuracy: 0.7023\n",
            "Epoch 11/100\n",
            "127/127 [==============================] - 1s 9ms/step - loss: 0.6656 - sparse_categorical_accuracy: 0.7130 - val_loss: 0.6660 - val_sparse_categorical_accuracy: 0.7001\n",
            "Epoch 12/100\n",
            "127/127 [==============================] - 1s 9ms/step - loss: 0.6593 - sparse_categorical_accuracy: 0.7113 - val_loss: 0.6639 - val_sparse_categorical_accuracy: 0.7012\n",
            "Epoch 13/100\n",
            "127/127 [==============================] - 1s 10ms/step - loss: 0.6547 - sparse_categorical_accuracy: 0.7154 - val_loss: 0.6552 - val_sparse_categorical_accuracy: 0.7151\n",
            "Epoch 14/100\n",
            "127/127 [==============================] - 1s 9ms/step - loss: 0.6460 - sparse_categorical_accuracy: 0.7184 - val_loss: 0.6457 - val_sparse_categorical_accuracy: 0.7167\n",
            "Epoch 15/100\n",
            "127/127 [==============================] - 1s 9ms/step - loss: 0.6433 - sparse_categorical_accuracy: 0.7210 - val_loss: 0.6639 - val_sparse_categorical_accuracy: 0.7134\n",
            "Epoch 16/100\n",
            "127/127 [==============================] - 1s 9ms/step - loss: 0.6341 - sparse_categorical_accuracy: 0.7219 - val_loss: 0.6506 - val_sparse_categorical_accuracy: 0.7140\n",
            "Epoch 17/100\n",
            "127/127 [==============================] - 1s 9ms/step - loss: 0.6320 - sparse_categorical_accuracy: 0.7266 - val_loss: 0.6506 - val_sparse_categorical_accuracy: 0.7068\n",
            "Epoch 18/100\n",
            "127/127 [==============================] - 1s 10ms/step - loss: 0.6237 - sparse_categorical_accuracy: 0.7298 - val_loss: 0.6482 - val_sparse_categorical_accuracy: 0.7090\n",
            "Epoch 19/100\n",
            "125/127 [============================>.] - ETA: 0s - loss: 0.6204 - sparse_categorical_accuracy: 0.7325Restoring model weights from the end of the best epoch: 14.\n",
            "127/127 [==============================] - 1s 9ms/step - loss: 0.6205 - sparse_categorical_accuracy: 0.7324 - val_loss: 0.6489 - val_sparse_categorical_accuracy: 0.7162\n",
            "Epoch 00019: early stopping\n"
          ]
        },
        {
          "output_type": "execute_result",
          "data": {
            "text/plain": [
              "<keras.callbacks.History at 0x7fc22f091210>"
            ]
          },
          "metadata": {},
          "execution_count": 29
        }
      ]
    },
    {
      "cell_type": "code",
      "metadata": {
        "id": "ggnajHWOahi2"
      },
      "source": [
        "y_pred = np.argmax(cnn.predict(x_test, batch_size=128), axis=-1)"
      ],
      "execution_count": null,
      "outputs": []
    },
    {
      "cell_type": "code",
      "source": [
        "label_names = ['negative', 'neutral', 'positive']"
      ],
      "metadata": {
        "id": "DzT2n-bX3gOG"
      },
      "execution_count": null,
      "outputs": []
    },
    {
      "cell_type": "code",
      "metadata": {
        "id": "b_WSa_dMahi3",
        "colab": {
          "base_uri": "https://localhost:8080/"
        },
        "outputId": "e57739c0-fc0d-4e02-a88c-cb178ad1ab0c"
      },
      "source": [
        "from sklearn.metrics import classification_report\n",
        "\n",
        "print(classification_report(y_test, y_pred, target_names=label_names, digits=4))"
      ],
      "execution_count": null,
      "outputs": [
        {
          "output_type": "stream",
          "name": "stdout",
          "text": [
            "              precision    recall  f1-score   support\n",
            "\n",
            "    negative     0.5306    0.4237    0.4711      1801\n",
            "     neutral     0.6558    0.8258    0.7310      3250\n",
            "    positive     0.2414    0.0138    0.0260       509\n",
            "\n",
            "    accuracy                         0.6212      5560\n",
            "   macro avg     0.4759    0.4211    0.4094      5560\n",
            "weighted avg     0.5773    0.6212    0.5823      5560\n",
            "\n"
          ]
        }
      ]
    },
    {
      "cell_type": "markdown",
      "source": [
        "Сверточная нейронная сеть, обученная на аугментированных данных"
      ],
      "metadata": {
        "id": "SW6aQhEtf2j_"
      }
    },
    {
      "cell_type": "code",
      "execution_count": null,
      "metadata": {
        "id": "ntzUlSFSLVM1"
      },
      "outputs": [],
      "source": [
        "!pip install textattack[tensorflow,optional]"
      ]
    },
    {
      "cell_type": "code",
      "execution_count": null,
      "metadata": {
        "id": "iYdwbFAw5kkg"
      },
      "outputs": [],
      "source": [
        "from textattack.transformations import WordSwapRandomCharacterDeletion\n",
        "from textattack.constraints.pre_transformation import RepeatModification\n",
        "from textattack.augmentation import Augmenter\n",
        "\n",
        "\n",
        "def augment_texts(texts, labels):\n",
        "  transformation = WordSwapRandomCharacterDeletion(skip_first_char=True, skip_last_char=True)\n",
        "  constraints = [RepeatModification()]\n",
        "  aug = Augmenter(transformation=transformation, pct_words_to_swap=0.5, transformations_per_example=7)\n",
        "  aug_texts = []\n",
        "  aug_labels = []\n",
        "  texts_total = len(texts)\n",
        "  for text, label in zip(texts, labels):\n",
        "    aug_text_options = aug.augment(text)\n",
        "    aug_texts.extend(aug_text_options)\n",
        "    aug_labels.extend([label] * len(aug_text_options))\n",
        "    n += 1\n",
        "    texts_total = len(texts)\n",
        "  return aug_texts, aug_labels"
      ]
    },
    {
      "cell_type": "code",
      "source": [
        "augmented_texts, augmented_labels = augment_texts(texts, labels)"
      ],
      "metadata": {
        "id": "a_NYUo87pNrl"
      },
      "execution_count": null,
      "outputs": []
    },
    {
      "cell_type": "code",
      "source": [
        "len(augmented_texts)"
      ],
      "metadata": {
        "colab": {
          "base_uri": "https://localhost:8080/"
        },
        "outputId": "ff8f5f1f-f073-4ef7-e818-ee3aa426e399",
        "id": "zZOuz_Y0pNrl"
      },
      "execution_count": null,
      "outputs": [
        {
          "output_type": "execute_result",
          "data": {
            "text/plain": [
              "126174"
            ]
          },
          "metadata": {},
          "execution_count": 17
        }
      ]
    },
    {
      "cell_type": "code",
      "source": [
        "x_train, y_train  = get_matrix(augmented_texts), np.array(augmented_labels)\n",
        "print(x_train.shape, x_test.shape)"
      ],
      "metadata": {
        "colab": {
          "base_uri": "https://localhost:8080/"
        },
        "outputId": "112a697f-8b64-4b32-d387-fceaea39ecbe",
        "id": "lYFqr1uRpNrm"
      },
      "execution_count": null,
      "outputs": [
        {
          "output_type": "stream",
          "name": "stdout",
          "text": [
            "(126174, 100, 1, 1) (5560, 100, 1, 1)\n"
          ]
        }
      ]
    },
    {
      "cell_type": "code",
      "execution_count": null,
      "metadata": {
        "id": "TGPAQjszahi3",
        "colab": {
          "base_uri": "https://localhost:8080/"
        },
        "outputId": "95278060-9b51-4349-d44c-216c640f1147"
      },
      "outputs": [
        {
          "output_type": "stream",
          "name": "stdout",
          "text": [
            "Model: \"sequential_7\"\n",
            "_________________________________________________________________\n",
            " Layer (type)                Output Shape              Param #   \n",
            "=================================================================\n",
            " Conv_Block1_Layer1 (Conv2D)  (None, 100, 1, 32)       96        \n",
            "                                                                 \n",
            " Conv_Block1_Layer2 (Conv2D)  (None, 99, 1, 32)        2080      \n",
            "                                                                 \n",
            " MaxPool1 (MaxPooling2D)     (None, 49, 1, 32)         0         \n",
            "                                                                 \n",
            " SpatialDropout1 (SpatialDro  (None, 49, 1, 32)        0         \n",
            " pout2D)                                                         \n",
            "                                                                 \n",
            " Conv_Block2_Layer1 (Conv2D)  (None, 49, 1, 64)        4160      \n",
            "                                                                 \n",
            " Conv_Block2_Layer2 (Conv2D)  (None, 48, 1, 64)        8256      \n",
            "                                                                 \n",
            " MaxPool2 (MaxPooling2D)     (None, 24, 1, 64)         0         \n",
            "                                                                 \n",
            " SpatialDropout2 (SpatialDro  (None, 24, 1, 64)        0         \n",
            " pout2D)                                                         \n",
            "                                                                 \n",
            " flatten_2 (Flatten)         (None, 1536)              0         \n",
            "                                                                 \n",
            " HiddenLayer (Dense)         (None, 512)               786944    \n",
            "                                                                 \n",
            " DropoutAfterHidden (Dropout  (None, 512)              0         \n",
            " )                                                               \n",
            "                                                                 \n",
            " OutputLayer (Dense)         (None, 10)                5130      \n",
            "                                                                 \n",
            "=================================================================\n",
            "Total params: 806,666\n",
            "Trainable params: 806,666\n",
            "Non-trainable params: 0\n",
            "_________________________________________________________________\n"
          ]
        }
      ],
      "source": [
        "cnn_with_augmentation = Sequential()\n",
        "cnn_with_augmentation.add(Conv2D(32, (2, 1), padding='same', activation='relu', input_shape=x_train.shape[1:],\n",
        "                                 kernel_initializer=he_uniform(seed=RANDOM_SEED), name='Conv_Block1_Layer1'))\n",
        "cnn_with_augmentation.add(Conv2D(32, (2, 1), activation='relu', kernel_initializer=he_uniform(seed=RANDOM_SEED),\n",
        "                                 name='Conv_Block1_Layer2'))\n",
        "cnn_with_augmentation.add(MaxPooling2D(pool_size=(2, 1), name='MaxPool1'))\n",
        "cnn_with_augmentation.add(SpatialDropout2D(rate=0.15, name='SpatialDropout1', seed=RANDOM_SEED))\n",
        "cnn_with_augmentation.add(Conv2D(64, (2, 1), padding='same', activation='relu',\n",
        "                                 kernel_initializer=he_uniform(seed=RANDOM_SEED), name='Conv_Block2_Layer1'))\n",
        "cnn_with_augmentation.add(Conv2D(64, (2, 1), activation='relu', kernel_initializer=he_uniform(seed=RANDOM_SEED),\n",
        "                                 name='Conv_Block2_Layer2'))\n",
        "cnn_with_augmentation.add(MaxPooling2D(pool_size=(2, 1), name='MaxPool2'))\n",
        "cnn_with_augmentation.add(SpatialDropout2D(rate=0.15, name='SpatialDropout2', seed=RANDOM_SEED))\n",
        "cnn_with_augmentation.add(Flatten())\n",
        "cnn_with_augmentation.add(Dense(512, activation='relu', kernel_initializer=he_uniform(seed=RANDOM_SEED),\n",
        "                                name='HiddenLayer'))\n",
        "cnn_with_augmentation.add(Dropout(rate=0.5, seed=RANDOM_SEED, name='DropoutAfterHidden'))\n",
        "cnn_with_augmentation.add(Dense(10, activation='softmax', kernel_initializer=glorot_uniform(seed=RANDOM_SEED),\n",
        "                                name='OutputLayer'))\n",
        "cnn_with_augmentation.compile(loss='sparse_categorical_crossentropy', optimizer='adam', metrics=['sparse_categorical_accuracy'])\n",
        "cnn_with_augmentation.summary()"
      ]
    },
    {
      "cell_type": "code",
      "source": [
        "BATCH_SIZE = 128\n",
        "\n",
        "cnn_with_augmentation.fit(\n",
        "    x_train, y_train,\n",
        "    batch_size=BATCH_SIZE,\n",
        "    validation_data=(x_val, y_val),\n",
        "    shuffle=True, epochs=100,\n",
        "    callbacks=[\n",
        "        EarlyStopping(\n",
        "            monitor='val_loss', patience=5, restore_best_weights=True, verbose=1\n",
        "        )\n",
        "    ],\n",
        "    verbose=1\n",
        ")"
      ],
      "metadata": {
        "colab": {
          "base_uri": "https://localhost:8080/"
        },
        "id": "-NLBhijms2Va",
        "outputId": "fa884531-137a-420b-c3b8-9ee601f181fc"
      },
      "execution_count": null,
      "outputs": [
        {
          "output_type": "stream",
          "name": "stdout",
          "text": [
            "Epoch 1/100\n",
            "888/888 [==============================] - 9s 9ms/step - loss: 0.7401 - sparse_categorical_accuracy: 0.6726 - val_loss: 0.7013 - val_sparse_categorical_accuracy: 0.6856\n",
            "Epoch 2/100\n",
            "888/888 [==============================] - 7s 8ms/step - loss: 0.7040 - sparse_categorical_accuracy: 0.6919 - val_loss: 0.6829 - val_sparse_categorical_accuracy: 0.6993\n",
            "Epoch 3/100\n",
            "888/888 [==============================] - 7s 8ms/step - loss: 0.6887 - sparse_categorical_accuracy: 0.6991 - val_loss: 0.6777 - val_sparse_categorical_accuracy: 0.6983\n",
            "Epoch 4/100\n",
            "888/888 [==============================] - 8s 9ms/step - loss: 0.6774 - sparse_categorical_accuracy: 0.7037 - val_loss: 0.6625 - val_sparse_categorical_accuracy: 0.7044\n",
            "Epoch 5/100\n",
            "888/888 [==============================] - 8s 9ms/step - loss: 0.6668 - sparse_categorical_accuracy: 0.7085 - val_loss: 0.6536 - val_sparse_categorical_accuracy: 0.7073\n",
            "Epoch 6/100\n",
            "888/888 [==============================] - 7s 8ms/step - loss: 0.6576 - sparse_categorical_accuracy: 0.7144 - val_loss: 0.6426 - val_sparse_categorical_accuracy: 0.7200\n",
            "Epoch 7/100\n",
            "888/888 [==============================] - 8s 9ms/step - loss: 0.6471 - sparse_categorical_accuracy: 0.7190 - val_loss: 0.6351 - val_sparse_categorical_accuracy: 0.7202\n",
            "Epoch 8/100\n",
            "888/888 [==============================] - 7s 8ms/step - loss: 0.6362 - sparse_categorical_accuracy: 0.7242 - val_loss: 0.6307 - val_sparse_categorical_accuracy: 0.7244\n",
            "Epoch 9/100\n",
            "888/888 [==============================] - 7s 8ms/step - loss: 0.6260 - sparse_categorical_accuracy: 0.7297 - val_loss: 0.6165 - val_sparse_categorical_accuracy: 0.7268\n",
            "Epoch 10/100\n",
            "888/888 [==============================] - 8s 8ms/step - loss: 0.6140 - sparse_categorical_accuracy: 0.7355 - val_loss: 0.6069 - val_sparse_categorical_accuracy: 0.7372\n",
            "Epoch 11/100\n",
            "888/888 [==============================] - 7s 8ms/step - loss: 0.6040 - sparse_categorical_accuracy: 0.7399 - val_loss: 0.6038 - val_sparse_categorical_accuracy: 0.7445\n",
            "Epoch 12/100\n",
            "888/888 [==============================] - 7s 8ms/step - loss: 0.5932 - sparse_categorical_accuracy: 0.7459 - val_loss: 0.5911 - val_sparse_categorical_accuracy: 0.7442\n",
            "Epoch 13/100\n",
            "888/888 [==============================] - 7s 8ms/step - loss: 0.5809 - sparse_categorical_accuracy: 0.7525 - val_loss: 0.5809 - val_sparse_categorical_accuracy: 0.7490\n",
            "Epoch 14/100\n",
            "888/888 [==============================] - 7s 8ms/step - loss: 0.5700 - sparse_categorical_accuracy: 0.7577 - val_loss: 0.5744 - val_sparse_categorical_accuracy: 0.7498\n",
            "Epoch 15/100\n",
            "888/888 [==============================] - 8s 9ms/step - loss: 0.5598 - sparse_categorical_accuracy: 0.7620 - val_loss: 0.5650 - val_sparse_categorical_accuracy: 0.7586\n",
            "Epoch 16/100\n",
            "888/888 [==============================] - 8s 9ms/step - loss: 0.5510 - sparse_categorical_accuracy: 0.7674 - val_loss: 0.5564 - val_sparse_categorical_accuracy: 0.7611\n",
            "Epoch 17/100\n",
            "888/888 [==============================] - 7s 8ms/step - loss: 0.5387 - sparse_categorical_accuracy: 0.7733 - val_loss: 0.5529 - val_sparse_categorical_accuracy: 0.7634\n",
            "Epoch 18/100\n",
            "888/888 [==============================] - 7s 8ms/step - loss: 0.5292 - sparse_categorical_accuracy: 0.7771 - val_loss: 0.5419 - val_sparse_categorical_accuracy: 0.7683\n",
            "Epoch 19/100\n",
            "888/888 [==============================] - 7s 8ms/step - loss: 0.5181 - sparse_categorical_accuracy: 0.7829 - val_loss: 0.5353 - val_sparse_categorical_accuracy: 0.7703\n",
            "Epoch 20/100\n",
            "888/888 [==============================] - 8s 9ms/step - loss: 0.5130 - sparse_categorical_accuracy: 0.7847 - val_loss: 0.5344 - val_sparse_categorical_accuracy: 0.7722\n",
            "Epoch 21/100\n",
            "888/888 [==============================] - 7s 8ms/step - loss: 0.5052 - sparse_categorical_accuracy: 0.7904 - val_loss: 0.5228 - val_sparse_categorical_accuracy: 0.7758\n",
            "Epoch 22/100\n",
            "888/888 [==============================] - 8s 9ms/step - loss: 0.4961 - sparse_categorical_accuracy: 0.7932 - val_loss: 0.5253 - val_sparse_categorical_accuracy: 0.7782\n",
            "Epoch 23/100\n",
            "888/888 [==============================] - 8s 9ms/step - loss: 0.4898 - sparse_categorical_accuracy: 0.7965 - val_loss: 0.5140 - val_sparse_categorical_accuracy: 0.7851\n",
            "Epoch 24/100\n",
            "888/888 [==============================] - 8s 9ms/step - loss: 0.4814 - sparse_categorical_accuracy: 0.7998 - val_loss: 0.5084 - val_sparse_categorical_accuracy: 0.7882\n",
            "Epoch 25/100\n",
            "888/888 [==============================] - 7s 8ms/step - loss: 0.4742 - sparse_categorical_accuracy: 0.8029 - val_loss: 0.5031 - val_sparse_categorical_accuracy: 0.7855\n",
            "Epoch 26/100\n",
            "888/888 [==============================] - 7s 8ms/step - loss: 0.4672 - sparse_categorical_accuracy: 0.8064 - val_loss: 0.5035 - val_sparse_categorical_accuracy: 0.7862\n",
            "Epoch 27/100\n",
            "888/888 [==============================] - 7s 8ms/step - loss: 0.4597 - sparse_categorical_accuracy: 0.8107 - val_loss: 0.4947 - val_sparse_categorical_accuracy: 0.7913\n",
            "Epoch 28/100\n",
            "888/888 [==============================] - 8s 9ms/step - loss: 0.4531 - sparse_categorical_accuracy: 0.8127 - val_loss: 0.4913 - val_sparse_categorical_accuracy: 0.7930\n",
            "Epoch 29/100\n",
            "888/888 [==============================] - 7s 8ms/step - loss: 0.4487 - sparse_categorical_accuracy: 0.8146 - val_loss: 0.4901 - val_sparse_categorical_accuracy: 0.7958\n",
            "Epoch 30/100\n",
            "888/888 [==============================] - 7s 8ms/step - loss: 0.4423 - sparse_categorical_accuracy: 0.8168 - val_loss: 0.4814 - val_sparse_categorical_accuracy: 0.7998\n",
            "Epoch 31/100\n",
            "888/888 [==============================] - 8s 9ms/step - loss: 0.4369 - sparse_categorical_accuracy: 0.8204 - val_loss: 0.4844 - val_sparse_categorical_accuracy: 0.7974\n",
            "Epoch 32/100\n",
            "888/888 [==============================] - 7s 8ms/step - loss: 0.4297 - sparse_categorical_accuracy: 0.8251 - val_loss: 0.4762 - val_sparse_categorical_accuracy: 0.8009\n",
            "Epoch 33/100\n",
            "888/888 [==============================] - 7s 8ms/step - loss: 0.4289 - sparse_categorical_accuracy: 0.8233 - val_loss: 0.4787 - val_sparse_categorical_accuracy: 0.8007\n",
            "Epoch 34/100\n",
            "888/888 [==============================] - 8s 9ms/step - loss: 0.4217 - sparse_categorical_accuracy: 0.8273 - val_loss: 0.4767 - val_sparse_categorical_accuracy: 0.8035\n",
            "Epoch 35/100\n",
            "888/888 [==============================] - 7s 8ms/step - loss: 0.4189 - sparse_categorical_accuracy: 0.8285 - val_loss: 0.4744 - val_sparse_categorical_accuracy: 0.7999\n",
            "Epoch 36/100\n",
            "888/888 [==============================] - 7s 8ms/step - loss: 0.4153 - sparse_categorical_accuracy: 0.8305 - val_loss: 0.4675 - val_sparse_categorical_accuracy: 0.8059\n",
            "Epoch 37/100\n",
            "888/888 [==============================] - 8s 9ms/step - loss: 0.4106 - sparse_categorical_accuracy: 0.8320 - val_loss: 0.4624 - val_sparse_categorical_accuracy: 0.8105\n",
            "Epoch 38/100\n",
            "888/888 [==============================] - 7s 8ms/step - loss: 0.4049 - sparse_categorical_accuracy: 0.8359 - val_loss: 0.4644 - val_sparse_categorical_accuracy: 0.8065\n",
            "Epoch 39/100\n",
            "888/888 [==============================] - 8s 9ms/step - loss: 0.4028 - sparse_categorical_accuracy: 0.8343 - val_loss: 0.4608 - val_sparse_categorical_accuracy: 0.8095\n",
            "Epoch 40/100\n",
            "888/888 [==============================] - 7s 8ms/step - loss: 0.3976 - sparse_categorical_accuracy: 0.8371 - val_loss: 0.4575 - val_sparse_categorical_accuracy: 0.8097\n",
            "Epoch 41/100\n",
            "888/888 [==============================] - 7s 8ms/step - loss: 0.3961 - sparse_categorical_accuracy: 0.8384 - val_loss: 0.4596 - val_sparse_categorical_accuracy: 0.8048\n",
            "Epoch 42/100\n",
            "888/888 [==============================] - 8s 9ms/step - loss: 0.3929 - sparse_categorical_accuracy: 0.8402 - val_loss: 0.4502 - val_sparse_categorical_accuracy: 0.8132\n",
            "Epoch 43/100\n",
            "888/888 [==============================] - 8s 9ms/step - loss: 0.3863 - sparse_categorical_accuracy: 0.8450 - val_loss: 0.4601 - val_sparse_categorical_accuracy: 0.8107\n",
            "Epoch 44/100\n",
            "888/888 [==============================] - 8s 9ms/step - loss: 0.3860 - sparse_categorical_accuracy: 0.8428 - val_loss: 0.4541 - val_sparse_categorical_accuracy: 0.8100\n",
            "Epoch 45/100\n",
            "888/888 [==============================] - 8s 9ms/step - loss: 0.3844 - sparse_categorical_accuracy: 0.8431 - val_loss: 0.4451 - val_sparse_categorical_accuracy: 0.8165\n",
            "Epoch 46/100\n",
            "888/888 [==============================] - 8s 9ms/step - loss: 0.3784 - sparse_categorical_accuracy: 0.8462 - val_loss: 0.4538 - val_sparse_categorical_accuracy: 0.8166\n",
            "Epoch 47/100\n",
            "888/888 [==============================] - 8s 9ms/step - loss: 0.3782 - sparse_categorical_accuracy: 0.8455 - val_loss: 0.4451 - val_sparse_categorical_accuracy: 0.8172\n",
            "Epoch 48/100\n",
            "888/888 [==============================] - 8s 9ms/step - loss: 0.3754 - sparse_categorical_accuracy: 0.8471 - val_loss: 0.4512 - val_sparse_categorical_accuracy: 0.8138\n",
            "Epoch 49/100\n",
            "888/888 [==============================] - 8s 9ms/step - loss: 0.3731 - sparse_categorical_accuracy: 0.8488 - val_loss: 0.4424 - val_sparse_categorical_accuracy: 0.8188\n",
            "Epoch 50/100\n",
            "888/888 [==============================] - 8s 9ms/step - loss: 0.3662 - sparse_categorical_accuracy: 0.8518 - val_loss: 0.4426 - val_sparse_categorical_accuracy: 0.8199\n",
            "Epoch 51/100\n",
            "888/888 [==============================] - 8s 9ms/step - loss: 0.3665 - sparse_categorical_accuracy: 0.8514 - val_loss: 0.4400 - val_sparse_categorical_accuracy: 0.8208\n",
            "Epoch 52/100\n",
            "888/888 [==============================] - 8s 9ms/step - loss: 0.3656 - sparse_categorical_accuracy: 0.8515 - val_loss: 0.4410 - val_sparse_categorical_accuracy: 0.8177\n",
            "Epoch 53/100\n",
            "888/888 [==============================] - 7s 8ms/step - loss: 0.3585 - sparse_categorical_accuracy: 0.8551 - val_loss: 0.4353 - val_sparse_categorical_accuracy: 0.8212\n",
            "Epoch 54/100\n",
            "888/888 [==============================] - 8s 9ms/step - loss: 0.3586 - sparse_categorical_accuracy: 0.8545 - val_loss: 0.4391 - val_sparse_categorical_accuracy: 0.8218\n",
            "Epoch 55/100\n",
            "888/888 [==============================] - 7s 8ms/step - loss: 0.3577 - sparse_categorical_accuracy: 0.8555 - val_loss: 0.4352 - val_sparse_categorical_accuracy: 0.8227\n",
            "Epoch 56/100\n",
            "888/888 [==============================] - 7s 8ms/step - loss: 0.3523 - sparse_categorical_accuracy: 0.8572 - val_loss: 0.4459 - val_sparse_categorical_accuracy: 0.8204\n",
            "Epoch 57/100\n",
            "888/888 [==============================] - 7s 8ms/step - loss: 0.3541 - sparse_categorical_accuracy: 0.8571 - val_loss: 0.4300 - val_sparse_categorical_accuracy: 0.8241\n",
            "Epoch 58/100\n",
            "888/888 [==============================] - 7s 8ms/step - loss: 0.3492 - sparse_categorical_accuracy: 0.8586 - val_loss: 0.4403 - val_sparse_categorical_accuracy: 0.8219\n",
            "Epoch 59/100\n",
            "888/888 [==============================] - 8s 9ms/step - loss: 0.3458 - sparse_categorical_accuracy: 0.8607 - val_loss: 0.4352 - val_sparse_categorical_accuracy: 0.8259\n",
            "Epoch 60/100\n",
            "888/888 [==============================] - 7s 8ms/step - loss: 0.3426 - sparse_categorical_accuracy: 0.8620 - val_loss: 0.4285 - val_sparse_categorical_accuracy: 0.8259\n",
            "Epoch 61/100\n",
            "888/888 [==============================] - 7s 8ms/step - loss: 0.3447 - sparse_categorical_accuracy: 0.8621 - val_loss: 0.4361 - val_sparse_categorical_accuracy: 0.8226\n",
            "Epoch 62/100\n",
            "888/888 [==============================] - 8s 9ms/step - loss: 0.3406 - sparse_categorical_accuracy: 0.8622 - val_loss: 0.4317 - val_sparse_categorical_accuracy: 0.8233\n",
            "Epoch 63/100\n",
            "888/888 [==============================] - 8s 9ms/step - loss: 0.3397 - sparse_categorical_accuracy: 0.8625 - val_loss: 0.4277 - val_sparse_categorical_accuracy: 0.8277\n",
            "Epoch 64/100\n",
            "888/888 [==============================] - 7s 8ms/step - loss: 0.3371 - sparse_categorical_accuracy: 0.8645 - val_loss: 0.4393 - val_sparse_categorical_accuracy: 0.8222\n",
            "Epoch 65/100\n",
            "888/888 [==============================] - 7s 8ms/step - loss: 0.3373 - sparse_categorical_accuracy: 0.8646 - val_loss: 0.4269 - val_sparse_categorical_accuracy: 0.8260\n",
            "Epoch 66/100\n",
            "888/888 [==============================] - 7s 8ms/step - loss: 0.3363 - sparse_categorical_accuracy: 0.8649 - val_loss: 0.4273 - val_sparse_categorical_accuracy: 0.8290\n",
            "Epoch 67/100\n",
            "888/888 [==============================] - 8s 9ms/step - loss: 0.3321 - sparse_categorical_accuracy: 0.8662 - val_loss: 0.4330 - val_sparse_categorical_accuracy: 0.8263\n",
            "Epoch 68/100\n",
            "888/888 [==============================] - 7s 8ms/step - loss: 0.3314 - sparse_categorical_accuracy: 0.8669 - val_loss: 0.4288 - val_sparse_categorical_accuracy: 0.8287\n",
            "Epoch 69/100\n",
            "888/888 [==============================] - 8s 9ms/step - loss: 0.3291 - sparse_categorical_accuracy: 0.8686 - val_loss: 0.4254 - val_sparse_categorical_accuracy: 0.8302\n",
            "Epoch 70/100\n",
            "888/888 [==============================] - 8s 9ms/step - loss: 0.3258 - sparse_categorical_accuracy: 0.8688 - val_loss: 0.4277 - val_sparse_categorical_accuracy: 0.8296\n",
            "Epoch 71/100\n",
            "888/888 [==============================] - 7s 8ms/step - loss: 0.3244 - sparse_categorical_accuracy: 0.8702 - val_loss: 0.4276 - val_sparse_categorical_accuracy: 0.8238\n",
            "Epoch 72/100\n",
            "888/888 [==============================] - 7s 8ms/step - loss: 0.3238 - sparse_categorical_accuracy: 0.8697 - val_loss: 0.4246 - val_sparse_categorical_accuracy: 0.8266\n",
            "Epoch 73/100\n",
            "888/888 [==============================] - 7s 8ms/step - loss: 0.3245 - sparse_categorical_accuracy: 0.8700 - val_loss: 0.4241 - val_sparse_categorical_accuracy: 0.8302\n",
            "Epoch 74/100\n",
            "888/888 [==============================] - 7s 8ms/step - loss: 0.3225 - sparse_categorical_accuracy: 0.8709 - val_loss: 0.4204 - val_sparse_categorical_accuracy: 0.8317\n",
            "Epoch 75/100\n",
            "888/888 [==============================] - 7s 8ms/step - loss: 0.3205 - sparse_categorical_accuracy: 0.8718 - val_loss: 0.4232 - val_sparse_categorical_accuracy: 0.8315\n",
            "Epoch 76/100\n",
            "888/888 [==============================] - 7s 8ms/step - loss: 0.3180 - sparse_categorical_accuracy: 0.8713 - val_loss: 0.4209 - val_sparse_categorical_accuracy: 0.8284\n",
            "Epoch 77/100\n",
            "888/888 [==============================] - 7s 8ms/step - loss: 0.3182 - sparse_categorical_accuracy: 0.8732 - val_loss: 0.4173 - val_sparse_categorical_accuracy: 0.8346\n",
            "Epoch 78/100\n",
            "888/888 [==============================] - 7s 8ms/step - loss: 0.3142 - sparse_categorical_accuracy: 0.8741 - val_loss: 0.4235 - val_sparse_categorical_accuracy: 0.8294\n",
            "Epoch 79/100\n",
            "888/888 [==============================] - 7s 8ms/step - loss: 0.3168 - sparse_categorical_accuracy: 0.8729 - val_loss: 0.4181 - val_sparse_categorical_accuracy: 0.8298\n",
            "Epoch 80/100\n",
            "888/888 [==============================] - 8s 9ms/step - loss: 0.3144 - sparse_categorical_accuracy: 0.8740 - val_loss: 0.4218 - val_sparse_categorical_accuracy: 0.8291\n",
            "Epoch 81/100\n",
            "888/888 [==============================] - 8s 9ms/step - loss: 0.3127 - sparse_categorical_accuracy: 0.8744 - val_loss: 0.4246 - val_sparse_categorical_accuracy: 0.8274\n",
            "Epoch 82/100\n",
            "883/888 [============================>.] - ETA: 0s - loss: 0.3110 - sparse_categorical_accuracy: 0.8753Restoring model weights from the end of the best epoch: 77.\n",
            "888/888 [==============================] - 7s 8ms/step - loss: 0.3109 - sparse_categorical_accuracy: 0.8752 - val_loss: 0.4242 - val_sparse_categorical_accuracy: 0.8285\n",
            "Epoch 00082: early stopping\n"
          ]
        },
        {
          "output_type": "execute_result",
          "data": {
            "text/plain": [
              "<keras.callbacks.History at 0x7fc1b033fd90>"
            ]
          },
          "metadata": {},
          "execution_count": 58
        }
      ]
    },
    {
      "cell_type": "code",
      "execution_count": null,
      "metadata": {
        "id": "BM9Y73aLahi6"
      },
      "outputs": [],
      "source": [
        "y_pred = np.argmax(cnn_with_augmentation.predict(x_test, batch_size=128), axis=-1)"
      ]
    },
    {
      "cell_type": "code",
      "execution_count": null,
      "metadata": {
        "id": "4ZgPBGrYahi7",
        "colab": {
          "base_uri": "https://localhost:8080/"
        },
        "outputId": "39a25227-a53f-4efc-bb9a-5341174ebaec"
      },
      "outputs": [
        {
          "output_type": "stream",
          "name": "stdout",
          "text": [
            "              precision    recall  f1-score   support\n",
            "\n",
            "    negative     0.4498    0.4119    0.4300     12604\n",
            "     neutral     0.6432    0.7141    0.6768     22741\n",
            "    positive     0.1408    0.0836    0.1049      3563\n",
            "\n",
            "    accuracy                         0.5585     38908\n",
            "   macro avg     0.4112    0.4032    0.4039     38908\n",
            "weighted avg     0.5345    0.5585    0.5445     38908\n",
            "\n"
          ]
        }
      ],
      "source": [
        "print(classification_report(y_test, y_pred, target_names=label_names, digits=4))"
      ]
    },
    {
      "cell_type": "markdown",
      "source": [
        "Свёрточная нейронная сеть, как с применением аугментации (f1-мера для негативных, нейтральных и положительных комментариев соответственно: 43, 67, 10), так и без неё (47, 73, 02), даёт результаты хуже, чем логистическая регрессия (65, 78, 31). Аугментация ухудшила качество распознавания негативных и нейтральных комментариев и улучшила качество распознавания положительных.\n"
      ],
      "metadata": {
        "id": "1yIR3Y5GQ1pv"
      }
    }
  ]
}